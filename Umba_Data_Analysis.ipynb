{
 "cells": [
  {
   "cell_type": "code",
   "execution_count": 2,
   "metadata": {},
   "outputs": [],
   "source": [
    "import pandas as pd\n",
    "df = pd.read_csv('/Users/zhangshengwang/Downloads/weekly_logins.csv')"
   ]
  },
  {
   "cell_type": "code",
   "execution_count": 3,
   "metadata": {},
   "outputs": [],
   "source": [
    "# Since there are so many categories and groups that can be discussed, I will only analyze a few of them:\n",
    "# Industry/Company Size/Territory\n",
    "\n",
    "# The reason why I chose these three categories is that I believe these three groups are most representative to \n",
    "# companies and are good at separating the companies in order for the analysis."
   ]
  },
  {
   "cell_type": "markdown",
   "metadata": {},
   "source": [
    "# Industry"
   ]
  },
  {
   "cell_type": "code",
   "execution_count": 10,
   "metadata": {},
   "outputs": [
    {
     "data": {
      "text/html": [
       "<div>\n",
       "<style scoped>\n",
       "    .dataframe tbody tr th:only-of-type {\n",
       "        vertical-align: middle;\n",
       "    }\n",
       "\n",
       "    .dataframe tbody tr th {\n",
       "        vertical-align: top;\n",
       "    }\n",
       "\n",
       "    .dataframe thead th {\n",
       "        text-align: right;\n",
       "    }\n",
       "</style>\n",
       "<table border=\"1\" class=\"dataframe\">\n",
       "  <thead>\n",
       "    <tr style=\"text-align: right;\">\n",
       "      <th></th>\n",
       "      <th>Weekly Logins</th>\n",
       "    </tr>\n",
       "    <tr>\n",
       "      <th>Industry</th>\n",
       "      <th></th>\n",
       "    </tr>\n",
       "  </thead>\n",
       "  <tbody>\n",
       "    <tr>\n",
       "      <th>Finance</th>\n",
       "      <td>6.532847</td>\n",
       "    </tr>\n",
       "    <tr>\n",
       "      <th>Professional Services</th>\n",
       "      <td>6.523810</td>\n",
       "    </tr>\n",
       "    <tr>\n",
       "      <th>Hospitality</th>\n",
       "      <td>6.517007</td>\n",
       "    </tr>\n",
       "    <tr>\n",
       "      <th>Legal Services</th>\n",
       "      <td>6.275510</td>\n",
       "    </tr>\n",
       "    <tr>\n",
       "      <th>Consumer Products</th>\n",
       "      <td>6.141414</td>\n",
       "    </tr>\n",
       "  </tbody>\n",
       "</table>\n",
       "</div>"
      ],
      "text/plain": [
       "                       Weekly Logins\n",
       "Industry                            \n",
       "Finance                     6.532847\n",
       "Professional Services       6.523810\n",
       "Hospitality                 6.517007\n",
       "Legal Services              6.275510\n",
       "Consumer Products           6.141414"
      ]
     },
     "execution_count": 10,
     "metadata": {},
     "output_type": "execute_result"
    }
   ],
   "source": [
    "df[['Weekly Logins','Industry']].groupby(['Industry']).mean().apply(lambda x: x.sort_values(ascending=False).head(5))"
   ]
  },
  {
   "cell_type": "markdown",
   "metadata": {},
   "source": [
    "# Company Size"
   ]
  },
  {
   "cell_type": "code",
   "execution_count": 13,
   "metadata": {},
   "outputs": [
    {
     "data": {
      "text/html": [
       "<div>\n",
       "<style scoped>\n",
       "    .dataframe tbody tr th:only-of-type {\n",
       "        vertical-align: middle;\n",
       "    }\n",
       "\n",
       "    .dataframe tbody tr th {\n",
       "        vertical-align: top;\n",
       "    }\n",
       "\n",
       "    .dataframe thead th {\n",
       "        text-align: right;\n",
       "    }\n",
       "</style>\n",
       "<table border=\"1\" class=\"dataframe\">\n",
       "  <thead>\n",
       "    <tr style=\"text-align: right;\">\n",
       "      <th></th>\n",
       "      <th>Weekly Logins</th>\n",
       "    </tr>\n",
       "    <tr>\n",
       "      <th>Company Size</th>\n",
       "      <th></th>\n",
       "    </tr>\n",
       "  </thead>\n",
       "  <tbody>\n",
       "    <tr>\n",
       "      <th>$500M - $1B</th>\n",
       "      <td>6.401639</td>\n",
       "    </tr>\n",
       "    <tr>\n",
       "      <th>&lt;$100M</th>\n",
       "      <td>6.308333</td>\n",
       "    </tr>\n",
       "    <tr>\n",
       "      <th>$1B - $10B</th>\n",
       "      <td>6.297468</td>\n",
       "    </tr>\n",
       "    <tr>\n",
       "      <th>$100M - $500M</th>\n",
       "      <td>6.023810</td>\n",
       "    </tr>\n",
       "    <tr>\n",
       "      <th>&gt;$10B</th>\n",
       "      <td>5.596429</td>\n",
       "    </tr>\n",
       "  </tbody>\n",
       "</table>\n",
       "</div>"
      ],
      "text/plain": [
       "               Weekly Logins\n",
       "Company Size                \n",
       "$500M - $1B         6.401639\n",
       "<$100M              6.308333\n",
       "$1B - $10B          6.297468\n",
       "$100M - $500M       6.023810\n",
       ">$10B               5.596429"
      ]
     },
     "execution_count": 13,
     "metadata": {},
     "output_type": "execute_result"
    }
   ],
   "source": [
    "df[['Weekly Logins','Company Size']].groupby(['Company Size']).mean()\\\n",
    ".apply(lambda x: x.sort_values(ascending=False).head(5))"
   ]
  },
  {
   "cell_type": "markdown",
   "metadata": {},
   "source": [
    "# Territory"
   ]
  },
  {
   "cell_type": "code",
   "execution_count": 15,
   "metadata": {},
   "outputs": [
    {
     "data": {
      "text/html": [
       "<div>\n",
       "<style scoped>\n",
       "    .dataframe tbody tr th:only-of-type {\n",
       "        vertical-align: middle;\n",
       "    }\n",
       "\n",
       "    .dataframe tbody tr th {\n",
       "        vertical-align: top;\n",
       "    }\n",
       "\n",
       "    .dataframe thead th {\n",
       "        text-align: right;\n",
       "    }\n",
       "</style>\n",
       "<table border=\"1\" class=\"dataframe\">\n",
       "  <thead>\n",
       "    <tr style=\"text-align: right;\">\n",
       "      <th></th>\n",
       "      <th>Weekly Logins</th>\n",
       "    </tr>\n",
       "    <tr>\n",
       "      <th>Territory</th>\n",
       "      <th></th>\n",
       "    </tr>\n",
       "  </thead>\n",
       "  <tbody>\n",
       "    <tr>\n",
       "      <th>East</th>\n",
       "      <td>6.430446</td>\n",
       "    </tr>\n",
       "    <tr>\n",
       "      <th>Midwest</th>\n",
       "      <td>6.021154</td>\n",
       "    </tr>\n",
       "    <tr>\n",
       "      <th>West</th>\n",
       "      <td>5.924113</td>\n",
       "    </tr>\n",
       "  </tbody>\n",
       "</table>\n",
       "</div>"
      ],
      "text/plain": [
       "           Weekly Logins\n",
       "Territory               \n",
       "East            6.430446\n",
       "Midwest         6.021154\n",
       "West            5.924113"
      ]
     },
     "execution_count": 15,
     "metadata": {},
     "output_type": "execute_result"
    }
   ],
   "source": [
    "df[['Weekly Logins','Territory']].groupby(['Territory']).mean()\\\n",
    ".apply(lambda x: x.sort_values(ascending=False).head())"
   ]
  },
  {
   "cell_type": "markdown",
   "metadata": {},
   "source": [
    "# All together"
   ]
  },
  {
   "cell_type": "code",
   "execution_count": 16,
   "metadata": {},
   "outputs": [
    {
     "data": {
      "text/html": [
       "<div>\n",
       "<style scoped>\n",
       "    .dataframe tbody tr th:only-of-type {\n",
       "        vertical-align: middle;\n",
       "    }\n",
       "\n",
       "    .dataframe tbody tr th {\n",
       "        vertical-align: top;\n",
       "    }\n",
       "\n",
       "    .dataframe thead th {\n",
       "        text-align: right;\n",
       "    }\n",
       "</style>\n",
       "<table border=\"1\" class=\"dataframe\">\n",
       "  <thead>\n",
       "    <tr style=\"text-align: right;\">\n",
       "      <th></th>\n",
       "      <th></th>\n",
       "      <th></th>\n",
       "      <th>Weekly Logins</th>\n",
       "    </tr>\n",
       "    <tr>\n",
       "      <th>Industry</th>\n",
       "      <th>Company Size</th>\n",
       "      <th>Territory</th>\n",
       "      <th></th>\n",
       "    </tr>\n",
       "  </thead>\n",
       "  <tbody>\n",
       "    <tr>\n",
       "      <th>Legal Services</th>\n",
       "      <th>&lt;$100M</th>\n",
       "      <th>East</th>\n",
       "      <td>8.000000</td>\n",
       "    </tr>\n",
       "    <tr>\n",
       "      <th>Manufacturing</th>\n",
       "      <th>&lt;$100M</th>\n",
       "      <th>Midwest</th>\n",
       "      <td>6.733333</td>\n",
       "    </tr>\n",
       "    <tr>\n",
       "      <th>Finance</th>\n",
       "      <th>$100M - $500M</th>\n",
       "      <th>East</th>\n",
       "      <td>6.532847</td>\n",
       "    </tr>\n",
       "    <tr>\n",
       "      <th>Professional Services</th>\n",
       "      <th>$500M - $1B</th>\n",
       "      <th>East</th>\n",
       "      <td>6.523810</td>\n",
       "    </tr>\n",
       "    <tr>\n",
       "      <th>Hospitality</th>\n",
       "      <th>&lt;$100M</th>\n",
       "      <th>Midwest</th>\n",
       "      <td>6.517007</td>\n",
       "    </tr>\n",
       "  </tbody>\n",
       "</table>\n",
       "</div>"
      ],
      "text/plain": [
       "                                               Weekly Logins\n",
       "Industry              Company Size  Territory               \n",
       "Legal Services        <$100M        East            8.000000\n",
       "Manufacturing         <$100M        Midwest         6.733333\n",
       "Finance               $100M - $500M East            6.532847\n",
       "Professional Services $500M - $1B   East            6.523810\n",
       "Hospitality           <$100M        Midwest         6.517007"
      ]
     },
     "execution_count": 16,
     "metadata": {},
     "output_type": "execute_result"
    }
   ],
   "source": [
    "df[['Weekly Logins','Industry','Company Size','Territory']].groupby(['Industry','Company Size','Territory']).mean()\\\n",
    ".apply(lambda x: x.sort_values(ascending=False).head())"
   ]
  },
  {
   "cell_type": "code",
   "execution_count": null,
   "metadata": {},
   "outputs": [],
   "source": [
    "# To sum up, I proceeded with GroupBy method in Pandas dataframe to compare the weekly logins among different industries,\n",
    "# Company Size, and Territory. I consider the engagement level as the average of weekly logins.\n",
    "\n",
    "# for different industries, Finance has the highest engagement level of 6.532.\n",
    "\n",
    "# For company size, the companies with 500M - 1B size have the highest engagement level of 6.4\n",
    "\n",
    "# For Territory, the companies located in the East have the highest engagement level of 6.43\n",
    "\n",
    "# When I put all three categories together and ran the analysis again, I got the highest engagement level combinations\n",
    "# : Legal Services companies with less than 100M size located in the East. The level is pretty high at 8.\n",
    "\n",
    "# Here are my thoughts on the above results. Obvisouly, the Finance industry should have the highest engagement level\n",
    "# because the Finance companies have higher demand on banking and financial services. For company size, actually \n",
    "# there is no big differences between the top 3 company sizes. So, we may need more data to perceive a relation\n",
    "# or trend between engagement level and company size. Speaking of the territory, we can understand that companies \n",
    "# located in the east will have higher engagement levels becuase there are more finiancial related companies at \n",
    "# the east coast than elsewhere in the US."
   ]
  }
 ],
 "metadata": {
  "kernelspec": {
   "display_name": "Python 3",
   "language": "python",
   "name": "python3"
  },
  "language_info": {
   "codemirror_mode": {
    "name": "ipython",
    "version": 3
   },
   "file_extension": ".py",
   "mimetype": "text/x-python",
   "name": "python",
   "nbconvert_exporter": "python",
   "pygments_lexer": "ipython3",
   "version": "3.6.12"
  }
 },
 "nbformat": 4,
 "nbformat_minor": 2
}
